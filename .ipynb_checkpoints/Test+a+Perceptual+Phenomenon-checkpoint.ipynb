{
 "cells": [
  {
   "cell_type": "markdown",
   "metadata": {},
   "source": [
    "### Analyzing the Stroop Effect\n",
    "Perform the analysis in the space below. Remember to follow [the instructions](https://docs.google.com/document/d/1-OkpZLjG_kX9J6LIQ5IltsqMzVWjh36QpnP2RYpVdPU/pub?embedded=True) and review the [project rubric](https://review.udacity.com/#!/rubrics/71/view) before submitting. Once you've completed the analysis and write up, download this file as a PDF or HTML file and submit in the next section.\n",
    "\n",
    "\n",
    "(1) What is the independent variable? What is the dependent variable?"
   ]
  },
  {
   "cell_type": "markdown",
   "metadata": {},
   "source": [
    "In this project, the independent variables are the words which are congruent with the color or not. The depentdent variables are the response time."
   ]
  },
  {
   "cell_type": "markdown",
   "metadata": {},
   "source": [
    "(2) What is an appropriate set of hypotheses for this task? What kind of statistical test do you expect to perform? Justify your choices."
   ]
  },
  {
   "cell_type": "markdown",
   "metadata": {},
   "source": [
    "An appropriate null hypotheses would be the response time for two different categories of words are not statistically different. We can use t-test to help us examine this hypothessis, since it's a good test for two sample comparison."
   ]
  },
  {
   "cell_type": "markdown",
   "metadata": {},
   "source": [
    "(3) Report some descriptive statistics regarding this dataset. Include at least one measure of central tendency and at least one measure of variability. The name of the data file is 'stroopdata.csv'."
   ]
  },
  {
   "cell_type": "code",
   "execution_count": 7,
   "metadata": {
    "collapsed": true
   },
   "outputs": [],
   "source": [
    "import pandas as pd\n",
    "import scipy.stats as stats\n",
    "import numpy as np\n",
    "import matplotlib.pyplot as plt\n",
    "% matplotlib inline"
   ]
  },
  {
   "cell_type": "code",
   "execution_count": 8,
   "metadata": {},
   "outputs": [
    {
     "name": "stdout",
     "output_type": "stream",
     "text": [
      "Sample mean for Congruent and Incongruent are 14.051125 22.0159166667\n",
      "Standard deviation for Congruent and Incongruent are 3.55935795765 4.79705712247\n"
     ]
    }
   ],
   "source": [
    "# Read data\n",
    "data = pd.read_csv('stroopdata.csv')\n",
    "Congruent = data['Congruent'].values.tolist()\n",
    "Incongruent = data['Incongruent'].values.tolist()\n",
    "\n",
    "# Mean\n",
    "Congruent_mean = np.mean(Congruent)\n",
    "Incongruent_mean = np.mean(Incongruent)\n",
    "print('Sample mean for Congruent and Incongruent are', Congruent_mean, Incongruent_mean)\n",
    "\n",
    "# Variance\n",
    "Congruent_std = np.sqrt(np.sum((Congruent - Congruent_mean)**2)/(len(Congruent)-1))\n",
    "Incongruent_std = np.sqrt(np.sum((Incongruent - Incongruent_mean)**2)/(len(Incongruent)-1))\n",
    "print('Standard deviation for Congruent and Incongruent are', Congruent_std, Incongruent_std)"
   ]
  },
  {
   "cell_type": "markdown",
   "metadata": {},
   "source": [
    "In this part, we calculated the mean and variance for each test. We can find there is a big difference on the mean and variance between each each other."
   ]
  },
  {
   "cell_type": "markdown",
   "metadata": {},
   "source": [
    "(4) Provide one or two visualizations that show the distribution of the sample data. Write one or two sentences noting what you observe about the plot or plots."
   ]
  },
  {
   "cell_type": "code",
   "execution_count": 9,
   "metadata": {},
   "outputs": [
    {
     "data": {
      "text/plain": [
       "<matplotlib.legend.Legend at 0x7fe51c926438>"
      ]
     },
     "execution_count": 9,
     "metadata": {},
     "output_type": "execute_result"
    },
    {
     "data": {
      "image/png": "[encoded data removed]",
      "text/plain": [
       "<matplotlib.figure.Figure at 0x7fe519d81748>"
      ]
     },
     "metadata": {},
     "output_type": "display_data"
    }
   ],
   "source": [
    "# Build the visualizations here\n",
    "import seaborn as sns\n",
    "sns.set(color_codes=True)\n",
    "\n",
    "# plot Congruent and Incongruent data\n",
    "sns.distplot(Congruent, label = 'Congruent')\n",
    "sns.distplot(Incongruent, label = 'Incongruent')\n",
    "plt.legend()"
   ]
  },
  {
   "cell_type": "markdown",
   "metadata": {},
   "source": [
    "As we can find, when we draw the sample distributions in the same graph, the mean for two the datasets are far away from each other. It also shows are the significant difference between the response time of the two tests."
   ]
  },
  {
   "cell_type": "markdown",
   "metadata": {},
   "source": [
    "(5) Now, perform the statistical test and report the results. What is the confidence level and your critical statistic value? Do you reject the null hypothesis or fail to reject it? Come to a conclusion in terms of the experiment task. Did the results match up with your expectations?"
   ]
  },
  {
   "cell_type": "code",
   "execution_count": 10,
   "metadata": {},
   "outputs": [
    {
     "name": "stdout",
     "output_type": "stream",
     "text": [
      "By formula, t_score= 8.02070694411\n",
      "By scipy package, t_score, p_value = -8.02070694411 4.10300058571e-08\n",
      "t_critical value = 2.06865761042\n"
     ]
    }
   ],
   "source": [
    "# Perform the statistical test here\n",
    "# Run t-test\n",
    "d = np.diff([Congruent, Incongruent], axis = 0)\n",
    "d_mean = np.mean(d)\n",
    "d_std = np.sqrt(np.sum((d - d_mean)**2)/(len(Congruent)-1))\n",
    "d_SE = d_std/np.sqrt(len(Congruent))\n",
    "T = d_mean/d_SE\n",
    "print('By formula, t_score=', T)\n",
    "\n",
    "# By stats package \n",
    "t_score, p_value = stats.ttest_rel(Congruent, Incongruent)\n",
    "print('By scipy package, t_score, p_value =', t_score, p_value)\n",
    "\n",
    "# critical value for t-test\n",
    "# For a 95% confidence interval with two-tail, the critical value will be\n",
    "t_critical = stats.t.ppf(0.975, len(Congruent)-1)\n",
    "print('t_critical value =', t_critical)"
   ]
  },
  {
   "cell_type": "markdown",
   "metadata": {},
   "source": [
    "As we can find, the t_score from t test is much bigger than the t critical value, which means the test rejected the null hypothesis, and the data from Incongruent is significanlly different from the Congruent. It matches our expectation."
   ]
  },
  {
   "cell_type": "code",
   "execution_count": null,
   "metadata": {
    "collapsed": true
   },
   "outputs": [],
   "source": []
  }
 ],
 "metadata": {
  "kernelspec": {
   "display_name": "Python 2",
   "language": "python",
   "name": "python2"
  },
  "language_info": {
   "codemirror_mode": {
    "name": "ipython",
    "version": 2
   },
   "file_extension": ".py",
   "mimetype": "text/x-python",
   "name": "python",
   "nbconvert_exporter": "python",
   "pygments_lexer": "ipython2",
   "version": "2.7.13"
  }
 },
 "nbformat": 4,
 "nbformat_minor": 2
}
